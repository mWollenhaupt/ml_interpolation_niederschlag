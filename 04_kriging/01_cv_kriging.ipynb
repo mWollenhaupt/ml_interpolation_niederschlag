{
 "cells": [
  {
   "cell_type": "code",
   "execution_count": null,
   "metadata": {},
   "outputs": [],
   "source": [
    "import pandas as pd\n",
    "import numpy as np\n",
    "from pykrige import OrdinaryKriging3D\n",
    "from pykrige.compat import GridSearchCV\n",
    "from pykrige.rk import Krige\n",
    "import pickle"
   ]
  },
  {
   "cell_type": "code",
   "execution_count": null,
   "metadata": {},
   "outputs": [],
   "source": [
    "# read relevant data\n",
    "obs_file = '../DATA/07_day_of_observation.csv'\n",
    "obs = pd.read_csv(obs_file, delimiter=';')"
   ]
  },
  {
   "cell_type": "code",
   "execution_count": null,
   "metadata": {},
   "outputs": [],
   "source": [
    "# 3D Kriging-CV\n",
    "# Parameters to search with\n",
    "param_dict3d = {'method': ['ordinary3d'],\n",
    "                'variogram_model': ['linear', 'power', 'gaussian', 'spherical'],\n",
    "                'nlags':[6,7,8],\n",
    "                'weight': [True, False]\n",
    "                }\n",
    "# create estimator\n",
    "estimator = GridSearchCV(Krige(), param_dict3d, verbose=True, cv=5)\n",
    "\n",
    "# coordinate-values-pairs to use\n",
    "X = obs[['east','north','up']].values\n",
    "y = obs['value'].values\n",
    "\n",
    "# run the gridsearch\n",
    "estimator.fit(X=X, y=y)\n",
    "if hasattr(estimator, 'best_score_'):\n",
    "    print('best_score R2 = {:.3f}'.format(estimator.best_score_))\n",
    "    print('best_params = ', estimator.best_params_)\n",
    "\n",
    "print('\\nCV results::')\n",
    "if hasattr(estimator, 'cv_results_'):\n",
    "    for key in ['mean_test_score', 'mean_train_score',\n",
    "                'param_method', 'param_variogram_model']:\n",
    "        print(' - {} : {}'.format(key, estimator.cv_results_[key]))"
   ]
  },
  {
   "cell_type": "code",
   "execution_count": null,
   "metadata": {},
   "outputs": [],
   "source": [
    "# extract df-columns\n",
    "x = obs['east'].values\n",
    "y = obs['north'].values\n",
    "z = obs['up'].values\n",
    "values = obs['value'].values"
   ]
  },
  {
   "cell_type": "code",
   "execution_count": null,
   "metadata": {},
   "outputs": [],
   "source": [
    "# prepare model for export\n",
    "params = estimator.best_params_\n",
    "model = OrdinaryKriging3D(x, y, z, values, \n",
    "                          variogram_model=params['variogram_model'], \n",
    "                          nlags=params['nlags'], \n",
    "                          weight=params['weight'])"
   ]
  },
  {
   "cell_type": "code",
   "execution_count": null,
   "metadata": {},
   "outputs": [],
   "source": [
    "# save model\n",
    "pkl_filename = '../DATA/KRIGING/kriging_{}_{}lags_wgt{}.pkl'.format(params['variogram_model'],\n",
    "                                                                      params['nlags'], params['weight'])\n",
    "with open(pkl_filename, 'wb') as file:  \n",
    "    pickle.dump(model, file)"
   ]
  },
  {
   "cell_type": "code",
   "execution_count": null,
   "metadata": {},
   "outputs": [],
   "source": []
  }
 ],
 "metadata": {
  "kernelspec": {
   "display_name": "Python 3",
   "language": "python",
   "name": "python3"
  },
  "language_info": {
   "codemirror_mode": {
    "name": "ipython",
    "version": 3
   },
   "file_extension": ".py",
   "mimetype": "text/x-python",
   "name": "python",
   "nbconvert_exporter": "python",
   "pygments_lexer": "ipython3",
   "version": "3.6.1"
  }
 },
 "nbformat": 4,
 "nbformat_minor": 2
}
