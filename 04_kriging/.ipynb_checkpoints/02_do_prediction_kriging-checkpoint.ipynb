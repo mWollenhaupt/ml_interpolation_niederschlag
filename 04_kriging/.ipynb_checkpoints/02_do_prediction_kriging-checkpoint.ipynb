{
 "cells": [
  {
   "cell_type": "code",
   "execution_count": null,
   "metadata": {},
   "outputs": [],
   "source": [
    "import pandas as pd\n",
    "import numpy as np\n",
    "import pickle\n",
    "\n",
    "from pykrige import OrdinaryKriging3D\n",
    "from datetime import datetime"
   ]
  },
  {
   "cell_type": "markdown",
   "metadata": {},
   "source": [
    "## Do not forget to adjust path to kriging model"
   ]
  },
  {
   "cell_type": "code",
   "execution_count": null,
   "metadata": {},
   "outputs": [],
   "source": [
    "# load prepared data for prediction\n",
    "points_to_predict_file = '../DATA/DGM/dgm200_nrw.csv'\n",
    "points_to_predict = pd.read_csv(points_to_predict_file, delimiter=';')\n",
    "\n",
    "pkl_filename = '../DATA/KRIGING/filename.pkl'\n",
    "with open(pkl_filename, 'rb') as file:  \n",
    "    model = pickle.load(file)"
   ]
  },
  {
   "cell_type": "code",
   "execution_count": null,
   "metadata": {},
   "outputs": [],
   "source": [
    "# extract coordinates to arrays\n",
    "x_of_prediction = points_to_predict['east'].values.astype(float)\n",
    "y_of_prediction = points_to_predict['north'].values.astype(float)\n",
    "z_of_prediction = points_to_predict['up'].values.astype(float)"
   ]
  },
  {
   "cell_type": "code",
   "execution_count": null,
   "metadata": {},
   "outputs": [],
   "source": [
    "# function to do prediction via kriging\n",
    "def do_prediction(kriging_model, x, y, z):\n",
    "    val_pred, std_pred = kriging_model.execute('points', x, y, z)\n",
    "    return [val_pred, std_pred]"
   ]
  },
  {
   "cell_type": "markdown",
   "metadata": {},
   "source": [
    "## Do not forget to adjust filenames!"
   ]
  },
  {
   "cell_type": "code",
   "execution_count": null,
   "metadata": {},
   "outputs": [],
   "source": [
    "# declare output files\n",
    "val_file = '../DATA/RESULTS/KRIGING/filename.xyz'\n",
    "std_file = '../DATA/RESULTS/KRIGING/filename.xyz'"
   ]
  },
  {
   "cell_type": "code",
   "execution_count": null,
   "metadata": {
    "scrolled": true
   },
   "outputs": [],
   "source": [
    "# iterate all coordinates, do prediction(values and variances), save to file\n",
    "l = len(x_of_prediction)\n",
    "cc = 1\n",
    "pc = 1\n",
    "with open(val_file, 'a') as val, open(std_file, 'a') as std:\n",
    "    val.write('east;north;value\\n') # write header in file\n",
    "    std.write('east;north;variance\\n') # write header in file\n",
    "    idx = 0\n",
    "    while idx < len(x_of_prediction):\n",
    "        # compute progress\n",
    "        perc = (cc/l)*100\n",
    "        if perc > pc:\n",
    "            print('{0}: {1:.1f}%'.format(datetime.now(), perc))\n",
    "            pc+=1\n",
    "        cc+=5000\n",
    "        \n",
    "        predicted = do_prediction(model, \n",
    "                                  x_of_prediction[idx:idx+5000], \n",
    "                                  y_of_prediction[idx:idx+5000], \n",
    "                                  z_of_prediction[idx:idx+5000])\n",
    "        for p in range(len(predicted[0])):\n",
    "            val.write('{};{};{}\\n'.format(x_of_prediction[idx+p], y_of_prediction[idx+p], predicted[0][p]))\n",
    "            std.write('{};{};{}\\n'.format(x_of_prediction[idx+p], y_of_prediction[idx+p], predicted[1][p]))\n",
    "        idx+=5000\n",
    " "
   ]
  },
  {
   "cell_type": "code",
   "execution_count": null,
   "metadata": {},
   "outputs": [],
   "source": []
  }
 ],
 "metadata": {
  "kernelspec": {
   "display_name": "Python 3",
   "language": "python",
   "name": "python3"
  },
  "language_info": {
   "codemirror_mode": {
    "name": "ipython",
    "version": 3
   },
   "file_extension": ".py",
   "mimetype": "text/x-python",
   "name": "python",
   "nbconvert_exporter": "python",
   "pygments_lexer": "ipython3",
   "version": "3.6.1"
  }
 },
 "nbformat": 4,
 "nbformat_minor": 2
}
