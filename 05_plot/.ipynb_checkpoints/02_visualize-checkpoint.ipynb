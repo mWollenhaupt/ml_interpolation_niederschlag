{
 "cells": [
  {
   "cell_type": "code",
   "execution_count": null,
   "metadata": {},
   "outputs": [],
   "source": [
    "import pandas as pd\n",
    "import matplotlib\n",
    "import matplotlib.pyplot as plt\n",
    "import numpy as np"
   ]
  },
  {
   "cell_type": "markdown",
   "metadata": {},
   "source": [
    "## Do not forget to adjust filename!"
   ]
  },
  {
   "cell_type": "code",
   "execution_count": null,
   "metadata": {},
   "outputs": [],
   "source": [
    "# read data you want to plot as 2D-image\n",
    "#data_to_plot_file = '../DATA/RESULTS/KRIGING/filename.xyz'\n",
    "data_to_plot_file = '../DATA/RESULTS/ML/25_neighbors/filename.xyz'\n",
    "\n",
    "\n",
    "with open(data_to_plot_file) as file:\n",
    "    data_to_plot = file.readlines()\n",
    "    \n",
    "data_to_plot = [x.strip() for x in data_to_plot] # remove blank and \\n\n",
    "del data_to_plot[0] # remove header\n",
    "\n",
    "# read the positions of the used stations - overlay in plot\n",
    "stations_file = '../DATA/00_stations_in_use.csv'\n",
    "stations = pd.read_csv(stations_file, delimiter=';')\n",
    "stations_east = stations['east']\n",
    "stations_north = stations['north']"
   ]
  },
  {
   "cell_type": "code",
   "execution_count": null,
   "metadata": {},
   "outputs": [],
   "source": [
    "# function to create dict-entry for each coordinate\n",
    "def prepare_dict(data_to_plot):\n",
    "    kvp = {}\n",
    "    for line in data_to_plot:\n",
    "        split = line.split(';')\n",
    "        key = '{0}{1}'.format(int(float(split[0])), int(float(split[1])))\n",
    "        value = split[2]\n",
    "        kvp[key] = value\n",
    "    return kvp"
   ]
  },
  {
   "cell_type": "code",
   "execution_count": null,
   "metadata": {},
   "outputs": [],
   "source": [
    "# function to fit data into a boundingbox - prepare masking\n",
    "def create_plottable_matrix(bounds, kvp):\n",
    "    result = []\n",
    "    x, y, width  = bounds['minx'], bounds['miny'], bounds['width']\n",
    "    while y <= bounds['maxy']:\n",
    "        while x <= bounds['maxx']:\n",
    "            if '{}{}'.format(x, y) in kvp:\n",
    "                result.append(float(kvp['{}{}'.format(x, y)]))\n",
    "            else:\n",
    "                result.append(-99)\n",
    "            x += width\n",
    "        y += width\n",
    "        x = bounds['minx']\n",
    "    return result"
   ]
  },
  {
   "cell_type": "code",
   "execution_count": null,
   "metadata": {},
   "outputs": [],
   "source": [
    "# set boundingbox and resolution of data\n",
    "bounds = {\n",
    "    'minx':32280000,\n",
    "    'miny':5577400,\n",
    "    'maxx':32532000,\n",
    "    'maxy':5820400,\n",
    "    'width':200\n",
    "}"
   ]
  },
  {
   "cell_type": "code",
   "execution_count": null,
   "metadata": {},
   "outputs": [],
   "source": [
    "# create key-values-pairs with coordinates and values, prepare plotable matrix\n",
    "kvp = prepare_dict(data_to_plot)\n",
    "data = create_plottable_matrix(bounds, kvp)\n",
    "data = np.asarray(data) # convert to numpy-array for reshaping\n",
    "masked_data = np.ma.masked_where(data == -99, data) # masking (transparency)"
   ]
  },
  {
   "cell_type": "code",
   "execution_count": null,
   "metadata": {},
   "outputs": [],
   "source": [
    "# reshape data to prepare rows and cols for plot\n",
    "x_per_row = int(((bounds['maxx']-bounds['minx'])/200)+1)\n",
    "y_per_row = int(((bounds['maxy']-bounds['miny'])/200)+1)\n",
    "grid = masked_data.reshape(y_per_row, x_per_row)"
   ]
  },
  {
   "cell_type": "markdown",
   "metadata": {},
   "source": [
    "## Adjust Path to result file before run!"
   ]
  },
  {
   "cell_type": "code",
   "execution_count": null,
   "metadata": {},
   "outputs": [],
   "source": [
    "# plot the result \n",
    "w = (1*x_per_row)/100\n",
    "h = (1*y_per_row)/100\n",
    "fig, ax = plt.subplots(figsize=(w, h))\n",
    "#ax.set_aspect('equal')\n",
    "\n",
    "\n",
    "# plot values as image\n",
    "im = ax.imshow(grid, extent=(bounds['minx'], bounds['maxx'], bounds['maxy'], bounds['miny']), cmap='viridis')\n",
    "# plot stations as scatterplot + overlay\n",
    "sc = ax.scatter(stations_east, stations_north, c='salmon', s=4*w)\n",
    "\n",
    "# Flip picture\n",
    "ax.set_ylim(ax.get_ylim()[::-1])\n",
    "\n",
    "# Legend\n",
    "clb = fig.colorbar(im, ax=ax)\n",
    "clb.set_label('   [mm]', y=1.001,  rotation='0', size=20)\n",
    "\n",
    "ax.legend(['Beobachtungsstationen'], loc='upper left')\n",
    "ax.set_title('Kartendarstellung der interpolierten Niederschlagsverteilung')\n",
    "# Make visible\n",
    "fig.tight_layout()\n",
    "plt.show\n",
    "\n",
    "plt.savefig('../DATA//RESULTS/ML/25_neighbors/filename.png', dpi=300, format='png')"
   ]
  },
  {
   "cell_type": "code",
   "execution_count": null,
   "metadata": {},
   "outputs": [],
   "source": []
  }
 ],
 "metadata": {
  "kernelspec": {
   "display_name": "Python 3",
   "language": "python",
   "name": "python3"
  },
  "language_info": {
   "codemirror_mode": {
    "name": "ipython",
    "version": 3
   },
   "file_extension": ".py",
   "mimetype": "text/x-python",
   "name": "python",
   "nbconvert_exporter": "python",
   "pygments_lexer": "ipython3",
   "version": "3.6.1"
  }
 },
 "nbformat": 4,
 "nbformat_minor": 2
}
