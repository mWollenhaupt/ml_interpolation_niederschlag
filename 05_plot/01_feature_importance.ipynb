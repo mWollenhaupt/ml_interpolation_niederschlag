{
 "cells": [
  {
   "cell_type": "code",
   "execution_count": null,
   "metadata": {},
   "outputs": [],
   "source": [
    "import matplotlib.pyplot as plt\n",
    "import pickle\n",
    "import numpy as np"
   ]
  },
  {
   "cell_type": "markdown",
   "metadata": {},
   "source": [
    "## Do not forget to adjust filename!"
   ]
  },
  {
   "cell_type": "code",
   "execution_count": null,
   "metadata": {},
   "outputs": [],
   "source": [
    "# read model which contains feature-importances + names of features\n",
    "pkl_filename = '../DATA/MODELS/filename.pkl'\n",
    "with open(pkl_filename, 'rb') as file:  \n",
    "    feature_names, pickle_model = pickle.load(file)"
   ]
  },
  {
   "cell_type": "code",
   "execution_count": null,
   "metadata": {},
   "outputs": [],
   "source": [
    "# function to plot feature-importances\n",
    "def plot_feature_importances(model, feature_names, n_features=8):\n",
    "    importances = model.feature_importances_\n",
    "    indices = np.argsort(importances)[::-1][0:n_features]\n",
    "    importances = importances[indices][::-1]\n",
    "    names = []\n",
    "    for idx in indices[::-1]:\n",
    "        names.append(feature_names[idx])\n",
    "    plt.figure(figsize=(7,15))\n",
    "    plt.barh(range(n_features), importances, align='center', color='palegreen', edgecolor='black')\n",
    "    plt.yticks(range(n_features), names)\n",
    "    plt.tick_params(labeltop=True, top=True, labelright=True, right=True)\n",
    "    plt.xlabel('Feature-Importance')\n",
    "    plt.ylabel('Feature')\n",
    "    \n",
    "    plt.savefig('../DATA//RESULTS/ML/50_neighbors/filename.png', dpi=300, \n",
    "                format='png', bbox_inches='tight')"
   ]
  },
  {
   "cell_type": "code",
   "execution_count": null,
   "metadata": {},
   "outputs": [],
   "source": [
    "# plot feature-importances\n",
    "plot_feature_importances(pickle_model, feature_names, 11)"
   ]
  },
  {
   "cell_type": "code",
   "execution_count": null,
   "metadata": {},
   "outputs": [],
   "source": []
  }
 ],
 "metadata": {
  "kernelspec": {
   "display_name": "Python 3",
   "language": "python",
   "name": "python3"
  },
  "language_info": {
   "codemirror_mode": {
    "name": "ipython",
    "version": 3
   },
   "file_extension": ".py",
   "mimetype": "text/x-python",
   "name": "python",
   "nbconvert_exporter": "python",
   "pygments_lexer": "ipython3",
   "version": "3.6.1"
  }
 },
 "nbformat": 4,
 "nbformat_minor": 2
}
