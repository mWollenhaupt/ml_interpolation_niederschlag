{
 "cells": [
  {
   "cell_type": "code",
   "execution_count": null,
   "metadata": {},
   "outputs": [],
   "source": [
    "import pandas as pd\n",
    "from datetime import datetime"
   ]
  },
  {
   "cell_type": "code",
   "execution_count": null,
   "metadata": {},
   "outputs": [],
   "source": [
    "# read relevant data\n",
    "file = '../DATA/01_observations_decoded.csv'\n",
    "df = pd.read_csv(file, delimiter=';')"
   ]
  },
  {
   "cell_type": "code",
   "execution_count": null,
   "metadata": {},
   "outputs": [],
   "source": [
    "# group data by timestamp\n",
    "df_groups = df.groupby('timestamp')"
   ]
  },
  {
   "cell_type": "code",
   "execution_count": null,
   "metadata": {},
   "outputs": [],
   "source": [
    "# function to filter days with low data volume\n",
    "def filter(groups, observations):\n",
    "    result = []\n",
    "    cc = 1\n",
    "    l = len(groups)\n",
    "    pc = 1\n",
    "    for date, data in groups:\n",
    "        # start compute progress\n",
    "        perc = (cc/l)*100\n",
    "        if perc > pc:\n",
    "            print('{0}: {1:.1f}%'.format(datetime.now(), perc))\n",
    "            pc += 1\n",
    "        cc += 1\n",
    "        \n",
    "        # filter low-vaulme data\n",
    "        if len(data) >= observations:\n",
    "            for idx, row in data.iterrows():\n",
    "                result.append([row['name'], row['east'], row['north'], row['up'], row['timestamp'], row['value']])\n",
    "    return result"
   ]
  },
  {
   "cell_type": "code",
   "execution_count": null,
   "metadata": {
    "scrolled": true
   },
   "outputs": [],
   "source": [
    "# run function, create and export dataframe as csv\n",
    "data = filter(df_groups, 129)\n",
    "result = pd.DataFrame(data=data, columns=df.columns)\n",
    "result.sort_values(['timestamp', 'name'])\n",
    "result.to_csv('../DATA/02_observations_high-data-volume.csv', sep=';', index=False)"
   ]
  },
  {
   "cell_type": "code",
   "execution_count": null,
   "metadata": {},
   "outputs": [],
   "source": []
  }
 ],
 "metadata": {
  "kernelspec": {
   "display_name": "Python 3",
   "language": "python",
   "name": "python3"
  },
  "language_info": {
   "codemirror_mode": {
    "name": "ipython",
    "version": 3
   },
   "file_extension": ".py",
   "mimetype": "text/x-python",
   "name": "python",
   "nbconvert_exporter": "python",
   "pygments_lexer": "ipython3",
   "version": "3.6.1"
  }
 },
 "nbformat": 4,
 "nbformat_minor": 2
}
