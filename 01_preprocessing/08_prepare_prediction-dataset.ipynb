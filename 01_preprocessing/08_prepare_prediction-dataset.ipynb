{
 "cells": [
  {
   "cell_type": "code",
   "execution_count": null,
   "metadata": {},
   "outputs": [],
   "source": [
    "import pandas as pd\n",
    "import datetime"
   ]
  },
  {
   "cell_type": "code",
   "execution_count": null,
   "metadata": {},
   "outputs": [],
   "source": [
    "# read relevant data\n",
    "pred_file = '../DATA/06_dgm_nearest_station-names.csv'\n",
    "pred = pd.read_csv(pred_file, delimiter=';', encoding='ansi')\n",
    "\n",
    "obs_file = '../DATA/07_day_of_observation.csv' # manually extracted sub-file from 07_training_data.csv\n",
    "obs_df = pd.read_csv(obs_file, delimiter=';')"
   ]
  },
  {
   "cell_type": "code",
   "execution_count": null,
   "metadata": {},
   "outputs": [],
   "source": [
    "# dictionary with name-value-pairs\n",
    "data = {}\n",
    "for row in obs_df.iterrows():\n",
    "    cr = row[1]\n",
    "    data[cr['name']] = cr['value']"
   ]
  },
  {
   "cell_type": "code",
   "execution_count": null,
   "metadata": {},
   "outputs": [],
   "source": [
    "# function that replaces the name with their values\n",
    "def replace_names_by_values(df, data, unix, doy, number=3):\n",
    "    cc = 1\n",
    "    pc = 1\n",
    "    l = len(pred)\n",
    "    \n",
    "    for idx, row in df.iterrows():\n",
    "        # compute progress\n",
    "        perc = (cc/l)*100\n",
    "        if perc > pc:\n",
    "            print('{0}: {1:.1f}%'.format(datetime.datetime.now(), pc))\n",
    "            pc = pc+1\n",
    "        cc = cc+1\n",
    "        \n",
    "        # replace names with values from dictionary\n",
    "        df.at[idx, 'unix'] = unix\n",
    "        df.at[idx, 'doy'] = doy\n",
    "        for n in range(number):\n",
    "            df.at[idx, 'value_{}'.format(n+1)] = data[row['value_{}'.format(n+1)]]    \n",
    "    return df"
   ]
  },
  {
   "cell_type": "code",
   "execution_count": null,
   "metadata": {},
   "outputs": [],
   "source": [
    "# run function to replace names by values\n",
    "pred = replace_names_by_values(pred, data, obs_df['unix'][0], obs_df['doy'][0], 50)"
   ]
  },
  {
   "cell_type": "code",
   "execution_count": null,
   "metadata": {},
   "outputs": [],
   "source": [
    "# sort data by north, east\n",
    "pred = pred.sort_values(['north', 'east'], ascending=[False, True])"
   ]
  },
  {
   "cell_type": "code",
   "execution_count": null,
   "metadata": {},
   "outputs": [],
   "source": [
    "# export as csv\n",
    "file = '../DATA/07_points_of_prediction.csv'\n",
    "pred.to_csv(file, sep=';', index=False)"
   ]
  }
 ],
 "metadata": {
  "kernelspec": {
   "display_name": "Python 3",
   "language": "python",
   "name": "python3"
  },
  "language_info": {
   "codemirror_mode": {
    "name": "ipython",
    "version": 3
   },
   "file_extension": ".py",
   "mimetype": "text/x-python",
   "name": "python",
   "nbconvert_exporter": "python",
   "pygments_lexer": "ipython3",
   "version": "3.6.1"
  }
 },
 "nbformat": 4,
 "nbformat_minor": 2
}
