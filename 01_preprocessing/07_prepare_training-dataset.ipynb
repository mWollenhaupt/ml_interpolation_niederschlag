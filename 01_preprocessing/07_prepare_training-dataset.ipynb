{
 "cells": [
  {
   "cell_type": "code",
   "execution_count": null,
   "metadata": {},
   "outputs": [],
   "source": [
    "import pandas as pd\n",
    "from dateutil.parser import parse\n",
    "from datetime import datetime"
   ]
  },
  {
   "cell_type": "code",
   "execution_count": null,
   "metadata": {},
   "outputs": [],
   "source": [
    "# read relevant data\n",
    "obs_file = '../DATA/05_station_nearest_stations.csv'\n",
    "obs = pd.read_csv(obs_file, delimiter=';', encoding='latin')"
   ]
  },
  {
   "cell_type": "code",
   "execution_count": null,
   "metadata": {},
   "outputs": [],
   "source": [
    "# reformat old timestamp to a ML-valid representation\n",
    "result = []\n",
    "l = len(obs)\n",
    "pc = 1\n",
    "cc = 0\n",
    "for idx, row in obs.iterrows():\n",
    "    # compute progress\n",
    "    perc = (cc/l)*100\n",
    "    if perc > pc:\n",
    "        print('{0}: {1:.1f}%'.format(datetime.now(), pc))\n",
    "        pc += 1\n",
    "    cc += 1\n",
    "    # reformat timestamp to doy and unixtime\n",
    "    time = datetime.strptime(row['timestamp'], '%Y-%m-%d')\n",
    "    unix = int((time-datetime(1970,1,1)).total_seconds())\n",
    "    doy = time.timetuple().tm_yday\n",
    "    result.append([unix, doy])"
   ]
  },
  {
   "cell_type": "code",
   "execution_count": null,
   "metadata": {},
   "outputs": [],
   "source": [
    "# create dataframe for new time-representations and concatenate with origin data\n",
    "time_df = pd.DataFrame(result, columns=['unix', 'doy'])\n",
    "df = pd.concat([obs, time_df], axis=1, join='outer')"
   ]
  },
  {
   "cell_type": "code",
   "execution_count": null,
   "metadata": {},
   "outputs": [],
   "source": [
    "# drop old timestamp\n",
    "df = df.drop('timestamp', axis=1)"
   ]
  },
  {
   "cell_type": "code",
   "execution_count": null,
   "metadata": {},
   "outputs": [],
   "source": [
    "# export to csv\n",
    "file = '../DATA/07_training_data.csv'\n",
    "df.to_csv(file, sep=';', index=False)"
   ]
  },
  {
   "cell_type": "code",
   "execution_count": null,
   "metadata": {},
   "outputs": [],
   "source": []
  }
 ],
 "metadata": {
  "kernelspec": {
   "display_name": "Python 3",
   "language": "python",
   "name": "python3"
  },
  "language_info": {
   "codemirror_mode": {
    "name": "ipython",
    "version": 3
   },
   "file_extension": ".py",
   "mimetype": "text/x-python",
   "name": "python",
   "nbconvert_exporter": "python",
   "pygments_lexer": "ipython3",
   "version": "3.6.1"
  }
 },
 "nbformat": 4,
 "nbformat_minor": 2
}
