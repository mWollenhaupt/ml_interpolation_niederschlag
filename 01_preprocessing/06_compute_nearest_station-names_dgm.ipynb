{
 "cells": [
  {
   "cell_type": "code",
   "execution_count": null,
   "metadata": {},
   "outputs": [],
   "source": [
    "import pandas as pd\n",
    "from math import sqrt\n",
    "from datetime import datetime"
   ]
  },
  {
   "cell_type": "code",
   "execution_count": null,
   "metadata": {},
   "outputs": [],
   "source": [
    "# read relevant data\n",
    "obs_file = '../DATA/00_stations_in_use.csv'\n",
    "obs = pd.read_csv(obs_file, delimiter=';')\n",
    "\n",
    "dgm_file = '../DATA/DGM/dgm200_nrw.csv'\n",
    "with open (dgm_file, 'r') as file_in:\n",
    "    lines = file_in.readlines()\n",
    "    lines = [x.strip() for x in lines]\n",
    "    header = lines[0]\n",
    "    del lines[0]"
   ]
  },
  {
   "cell_type": "code",
   "execution_count": null,
   "metadata": {},
   "outputs": [],
   "source": [
    "# create header for file\n",
    "n = 50\n",
    "for i in range(n):\n",
    "    header += ';dist_{};value_{}'.format(i+1, i+1)"
   ]
  },
  {
   "cell_type": "code",
   "execution_count": null,
   "metadata": {},
   "outputs": [],
   "source": [
    "# function to calculate n nearest stations\n",
    "def calc_nearest_stations(dgm_point, stations, number=3):\n",
    "    result = []\n",
    "    dgm_east = float(dgm_point[0])\n",
    "    dgm_north = float(dgm_point[1])\n",
    "    dgm_up = float(dgm_point[2])\n",
    "    for idx, row in stations.iterrows():\n",
    "        dist = sqrt((dgm_east-row['east'])**2+(dgm_north-row['north'])**2+(dgm_up-row['up'])**2)\n",
    "        result.append([dist, ':{}'.format(row['name'])])\n",
    "    result.sort(key=lambda x: x[0])\n",
    "    result = result[0:number]\n",
    "    cr = ';'.join(str(e) for e in result)\n",
    "    cr = cr.replace(\"'\", '').replace('[', '').replace(']', '').replace(', :', ';')\n",
    "    return cr"
   ]
  },
  {
   "cell_type": "code",
   "execution_count": null,
   "metadata": {},
   "outputs": [],
   "source": [
    "# calculate nearest neighbors for points of dgm, write to file\n",
    "file = '../DATA/06_dgm_nearest_station-names.csv'\n",
    "cc = 1\n",
    "pc = 1\n",
    "l = len(lines)\n",
    "with open (file, 'a') as file_out: # open file to write\n",
    "    file_out.write('{}\\n'.format(header)) # write header\n",
    "    for line in lines: # iterate dgm-file\n",
    "        #compute progress\n",
    "        perc = (cc/l)*100\n",
    "        if perc > pc:\n",
    "            print('{0}: {1:.1f}%'.format(datetime.now(), perc))\n",
    "            pc+=1\n",
    "        cc+=1\n",
    "        # compute nearest neighbors\n",
    "        dgm_point = line.split(';')\n",
    "        file_out.write('{};{}\\n'.format(line, calc_nearest_stations(dgm_point, obs, n)))"
   ]
  },
  {
   "cell_type": "code",
   "execution_count": null,
   "metadata": {},
   "outputs": [],
   "source": []
  }
 ],
 "metadata": {
  "kernelspec": {
   "display_name": "Python 3",
   "language": "python",
   "name": "python3"
  },
  "language_info": {
   "codemirror_mode": {
    "name": "ipython",
    "version": 3
   },
   "file_extension": ".py",
   "mimetype": "text/x-python",
   "name": "python",
   "nbconvert_exporter": "python",
   "pygments_lexer": "ipython3",
   "version": "3.6.1"
  }
 },
 "nbformat": 4,
 "nbformat_minor": 2
}
