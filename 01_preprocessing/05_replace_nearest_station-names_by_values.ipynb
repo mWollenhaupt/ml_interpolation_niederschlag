{
 "cells": [
  {
   "cell_type": "code",
   "execution_count": null,
   "metadata": {},
   "outputs": [],
   "source": [
    "import pandas as pd\n",
    "from datetime import datetime\n",
    "from pathlib import Path"
   ]
  },
  {
   "cell_type": "code",
   "execution_count": null,
   "metadata": {},
   "outputs": [],
   "source": [
    "# read relevant data - create temporal file with new order\n",
    "temp_file = '../DATA/05_temp.csv'\n",
    "temp = Path(temp_file)\n",
    "if temp.is_file() == False:\n",
    "    file = '../DATA/04_station_nearest_stations-names.csv'\n",
    "    df = pd.read_csv(file, delimiter=';', encoding='latin1')\n",
    "    df = df.sort_values(['timestamp', 'name'])\n",
    "    df.to_csv('../DATA/05_temp.csv', sep=';', index=False)"
   ]
  },
  {
   "cell_type": "code",
   "execution_count": null,
   "metadata": {},
   "outputs": [],
   "source": [
    "# read in re-orderd temporary file\n",
    "with open ('../DATA/05_temp.csv', 'r', encoding='utf-8') as file:\n",
    "    lines = file.readlines()\n",
    "lines = [x.strip() for x in lines]\n",
    "header = lines[0]\n",
    "del lines[0]"
   ]
  },
  {
   "cell_type": "code",
   "execution_count": null,
   "metadata": {},
   "outputs": [],
   "source": [
    "# replace station-names by their values measured at each day\n",
    "n = 50 # number of neighbors to replace\n",
    "cc = 1\n",
    "pc = 1\n",
    "le = len(lines)/129\n",
    "with open ('../DATA/05_station_nearest_stations.csv', 'a') as file_out:\n",
    "    file_out.write('{}\\n'.format(header))\n",
    "    for date in range(int(len(lines)/129)):\n",
    "        # compute progress\n",
    "        perc = (cc/le)*100\n",
    "        if perc > pc:\n",
    "            print('{0}: {1:.1f}%'.format(datetime.now(), perc))\n",
    "            pc+=1\n",
    "        cc+=1\n",
    "        # replace names with values\n",
    "        l = int(date*129)\n",
    "        h = int((date+1)*129)\n",
    "        data = lines[l:h]\n",
    "        d = {}\n",
    "        for line in data:    # prepare dict with name-value pairs\n",
    "            split=line.split(';')\n",
    "            d[split[0]] = split[5]\n",
    "            \n",
    "        for line in data:   # replace stationsnames with values for each line\n",
    "            split=line.split(';')\n",
    "            for i in range(n):\n",
    "                name = split[7+(2*i)]\n",
    "                split[7+(2*i)] = d[name]\n",
    "            cr = ';'.join(str(e) for e in split)\n",
    "            file_out.write('{}\\n'.format(cr))    "
   ]
  }
 ],
 "metadata": {
  "kernelspec": {
   "display_name": "Python 3",
   "language": "python",
   "name": "python3"
  },
  "language_info": {
   "codemirror_mode": {
    "name": "ipython",
    "version": 3
   },
   "file_extension": ".py",
   "mimetype": "text/x-python",
   "name": "python",
   "nbconvert_exporter": "python",
   "pygments_lexer": "ipython3",
   "version": "3.6.1"
  }
 },
 "nbformat": 4,
 "nbformat_minor": 2
}
