{
 "cells": [
  {
   "cell_type": "code",
   "execution_count": null,
   "metadata": {},
   "outputs": [],
   "source": [
    "import pandas as pd\n",
    "from datetime import datetime"
   ]
  },
  {
   "cell_type": "code",
   "execution_count": null,
   "metadata": {},
   "outputs": [],
   "source": [
    "# read relevant data\n",
    "file_in = '../DATA/02_observations_high-data-volume.csv'\n",
    "df = pd.read_csv(file_in, delimiter=';')"
   ]
  },
  {
   "cell_type": "code",
   "execution_count": null,
   "metadata": {},
   "outputs": [],
   "source": [
    "# group data by timestamp\n",
    "groups = df.groupby('timestamp')"
   ]
  },
  {
   "cell_type": "code",
   "execution_count": null,
   "metadata": {},
   "outputs": [],
   "source": [
    "# function to check, if there where only zero-values for a day\n",
    "def only_zero_data(dataframe):\n",
    "    for row in dataframe.iterrows():\n",
    "        value = row[1]['value']\n",
    "        if value != 0:\n",
    "            return False\n",
    "    return True"
   ]
  },
  {
   "cell_type": "code",
   "execution_count": null,
   "metadata": {},
   "outputs": [],
   "source": [
    "# run function for each group(day), write to non-redundant groups to csv-file\n",
    "file_out = '../DATA/03_valid_observations.csv'\n",
    "once = False\n",
    "header = True\n",
    "\n",
    "l = len(groups)\n",
    "pc = 1\n",
    "cc = 1\n",
    "\n",
    "for name, group in groups:\n",
    "    # compute progress\n",
    "    perc = (cc/l)*100\n",
    "    if perc > pc:\n",
    "        print('{0}: {1:.1f}%'.format(datetime.now(), perc))\n",
    "        pc+=1\n",
    "    cc+=1\n",
    "    group.sort_values(['timestamp', 'name'])\n",
    "    current_df = only_zero_data(group)\n",
    "    if once == False:\n",
    "        if current_df == True:\n",
    "            if header:\n",
    "                group.to_csv(file_out, sep=';', index=False, mode='a')\n",
    "                once = True\n",
    "                header = False\n",
    "            else:\n",
    "                group.to_csv(file_out, sep=';', header=False, index=False, mode='a')\n",
    "                once = True\n",
    "    if current_df == False:\n",
    "        if header:\n",
    "            group.to_csv(file_out, sep=';', index=False, mode='a')\n",
    "            header = False\n",
    "        else:\n",
    "            group.to_csv(file_out, sep=';', header=False, index=False, mode='a')"
   ]
  },
  {
   "cell_type": "code",
   "execution_count": null,
   "metadata": {},
   "outputs": [],
   "source": []
  }
 ],
 "metadata": {
  "kernelspec": {
   "display_name": "Python 3",
   "language": "python",
   "name": "python3"
  },
  "language_info": {
   "codemirror_mode": {
    "name": "ipython",
    "version": 3
   },
   "file_extension": ".py",
   "mimetype": "text/x-python",
   "name": "python",
   "nbconvert_exporter": "python",
   "pygments_lexer": "ipython3",
   "version": "3.6.1"
  }
 },
 "nbformat": 4,
 "nbformat_minor": 2
}
