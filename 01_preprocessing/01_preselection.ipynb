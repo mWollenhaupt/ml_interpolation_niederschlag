{
 "cells": [
  {
   "cell_type": "code",
   "execution_count": null,
   "metadata": {},
   "outputs": [],
   "source": [
    "import pandas as pd\n",
    "from datetime import datetime"
   ]
  },
  {
   "cell_type": "code",
   "execution_count": null,
   "metadata": {},
   "outputs": [],
   "source": [
    "# read relevant data\n",
    "metadata_file = '../DATA/00_stations_metadata.csv'\n",
    "metadata = pd.read_csv(metadata_file, delimiter=';')\n",
    "\n",
    "observations_file = '../DATA/00_RS_MN006.csv'\n",
    "observations = pd.read_csv(observations_file, delimiter=';')\n",
    "\n",
    "overview_file = '../DATA/00_stations_overview.csv'\n",
    "overview = pd.read_csv(overview_file, delimiter=';')"
   ]
  },
  {
   "cell_type": "code",
   "execution_count": null,
   "metadata": {},
   "outputs": [],
   "source": [
    "# merge dataframes\n",
    "merge = pd.merge(metadata, observations, how='inner', on='STATION_ID')\n",
    "merge = pd.merge(merge, overview, how='inner', on='Stationsname')\n",
    "merge = merge[['Stationsname', 'east', 'north', 'up', 'ZEITSTEMPEL', 'WERT']]\n",
    "\n",
    "merge = merge.rename(columns={'Stationsname':'name', 'ZEITSTEMPEL':'timestamp', 'WERT':'value'})\n",
    "merge = merge.sort_values(['timestamp', 'name'])"
   ]
  },
  {
   "cell_type": "code",
   "execution_count": null,
   "metadata": {},
   "outputs": [],
   "source": [
    "# remove stations outside the timeframe\n",
    "merge = merge[merge.name != 'Aachen']\n",
    "merge = merge[merge.name != 'Beckum-Unterberg']\n",
    "merge = merge[merge.name != 'Bergisch Gladbach -Refrath']\n",
    "merge = merge[merge.name != 'Dorsten-Hervest']\n",
    "merge = merge[merge.name != 'Driburg, Bad-Dringenberg']\n",
    "merge = merge[merge.name != 'Gronau']\n",
    "merge = merge[merge.name != 'Hamm (Schleuse)']\n",
    "merge = merge[merge.name != 'Herzogenrath']\n",
    "merge = merge[merge.name != 'Horn-Meinberg, Bad-Feldrom']\n",
    "merge = merge[merge.name != 'Kierspe-Höckinghausen']\n",
    "merge = merge[merge.name != 'Kleve-Schenkenschanz']\n",
    "merge = merge[merge.name != 'Lippetal-Brockhausen']\n",
    "merge = merge[merge.name != 'Marienheide-Müllenbach']\n",
    "merge = merge[merge.name != 'Mettmann']\n",
    "merge = merge[merge.name != 'Minden-Hahlen']\n",
    "merge = merge[merge.name != 'Neuss']\n",
    "merge = merge[merge.name != 'Oberhausen-Klosterhardt']\n",
    "merge = merge[merge.name != 'Oeynhausen, Bad']\n",
    "merge = merge[merge.name != 'Schleiden-Morsbach']\n",
    "merge = merge[merge.name != 'Warendorf']\n",
    "merge = merge[merge.name != 'Witten-Stockum']\n",
    "merge = merge[merge.name != 'Übach-Palenberg']\n",
    "# remove stations with insufficiently measured data\n",
    "merge = merge[merge.name != 'Rheda-Wiedenbrück-Lintel']\n",
    "merge = merge[merge.name != 'Nottuln']\n",
    "merge = merge[merge.name != 'Ennigerloh-Ostenfelde']\n",
    "merge = merge[merge.name != 'Bocholt-Liedern (Wasserwerk)']\n",
    "merge = merge[merge.name != 'Porta Westfalica-Barkhausen']\n",
    "merge = merge[merge.name != 'Aachen-Orsbach']\n",
    "merge = merge[merge.name != 'Remscheid-Lennep']\n",
    "merge = merge[merge.name != 'Dorsten-Lembeck']\n",
    "merge = merge[merge.name != 'Werne-Wessel']\n",
    "merge = merge[merge.name != 'Stadtlohn']\n",
    "merge = merge[merge.name != 'Iserlohn-Letmathe']\n",
    "merge = merge[merge.name != 'Eslohe']\n",
    "merge = merge[merge.name != 'Fröndenberg-Hohenheide']\n",
    "merge = merge[merge.name != 'Marsberg-Leitmar']"
   ]
  },
  {
   "cell_type": "markdown",
   "metadata": {},
   "source": [
    "#### Formatting the timestamp. For clarity only, not relevant for further processing"
   ]
  },
  {
   "cell_type": "code",
   "execution_count": null,
   "metadata": {},
   "outputs": [],
   "source": [
    "# function to reformat date-representation\n",
    "def reformat_date_representation(df):\n",
    "    l = len(df)\n",
    "    cc = 0\n",
    "    pc = 1\n",
    "    dates = []\n",
    "    for idx, row in df.iterrows():\n",
    "        # compute progress\n",
    "        cc = cc+1\n",
    "        per = (cc/l)*100\n",
    "        if per > pc:\n",
    "            print('{0}: {1:.1f}%'.format(datetime.now(), pc))\n",
    "            pc = pc+1\n",
    "            \n",
    "        # reformat date-representation\n",
    "        date = datetime.strptime(str(row['timestamp']), '%Y%m%d').strftime('%Y-%m-%d')\n",
    "        dates.append(date)\n",
    "    return pd.Series(dates, name='timestamp')"
   ]
  },
  {
   "cell_type": "code",
   "execution_count": null,
   "metadata": {
    "scrolled": true
   },
   "outputs": [],
   "source": [
    "# overwrite old timestamp\n",
    "times = reformat_date_representation(merge)\n",
    "merge = merge.drop(columns = 'timestamp')\n",
    "merge = merge.assign(timestamp=times.values)\n",
    "\n",
    "# resort data by timestamp, name again\n",
    "merge = merge.sort_values(['timestamp', 'name'])"
   ]
  },
  {
   "cell_type": "code",
   "execution_count": null,
   "metadata": {},
   "outputs": [],
   "source": [
    "# export dataframe as csv\n",
    "file = '../DATA/01_observations_decoded.csv'\n",
    "merge.to_csv(file, sep=';', index=False)"
   ]
  },
  {
   "cell_type": "code",
   "execution_count": null,
   "metadata": {},
   "outputs": [],
   "source": []
  }
 ],
 "metadata": {
  "kernelspec": {
   "display_name": "Python 3",
   "language": "python",
   "name": "python3"
  },
  "language_info": {
   "codemirror_mode": {
    "name": "ipython",
    "version": 3
   },
   "file_extension": ".py",
   "mimetype": "text/x-python",
   "name": "python",
   "nbconvert_exporter": "python",
   "pygments_lexer": "ipython3",
   "version": "3.6.1"
  }
 },
 "nbformat": 4,
 "nbformat_minor": 2
}
