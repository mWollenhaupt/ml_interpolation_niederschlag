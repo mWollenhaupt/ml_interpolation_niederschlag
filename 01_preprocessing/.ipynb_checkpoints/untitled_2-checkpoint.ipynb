{
 "cells": [
  {
   "cell_type": "code",
   "execution_count": null,
   "metadata": {},
   "outputs": [],
   "source": [
    "import pandas as pd\n",
    "from math import sqrt\n",
    "from datetime import datetime"
   ]
  },
  {
   "cell_type": "code",
   "execution_count": null,
   "metadata": {},
   "outputs": [],
   "source": [
    "# read in relevant data\n",
    "obs_file = \"../DATA/00_stations_in_use.csv\"\n",
    "obs = pd.read_csv(obs_file, delimiter=\";\")\n",
    "\n",
    "dgm_file = \"../DATA/DGM/dgm200.xyz\"\n",
    "dgm_names = [\"east\", \"north\", \"up\"]\n",
    "dgm = pd.read_csv(dgm_file, names=dgm_names, delimiter=\" \")"
   ]
  },
  {
   "cell_type": "code",
   "execution_count": null,
   "metadata": {},
   "outputs": [],
   "source": [
    "# function which calcultes the n next neigbour-stations to a given dgm-point\n",
    "def calc_nearest_stations(dgm, obs, number=3):\n",
    "    result=[]\n",
    "    cc = 1\n",
    "    l = len(dgm)\n",
    "    pc = 1\n",
    "    for d_row in dgm.iterrows():\n",
    "        # compute progress\n",
    "        perc = (cc/l)*100\n",
    "        if perc > pc:\n",
    "            print('{0}: {1:.1f}%'.format(datetime.now(), perc))\n",
    "            pc+=1\n",
    "        cc+=1\n",
    "        # compute n nearest neighbours for each datapoint\n",
    "        dgm_line = []\n",
    "        d_east = d_row[1]['east']\n",
    "        d_north = d_row[1]['north']\n",
    "        d_up = d_row[1]['up']\n",
    "        for o_row in obs.iterrows():\n",
    "            o_east = o_row[1]['east']\n",
    "            o_north = o_row[1]['north']\n",
    "            o_up = o_row[1]['up']\n",
    "            dist = sqrt((d_east-o_east)**2+(d_north-o_north)**2+(d_up-o_up)**2)\n",
    "            r = [dist, o_row[1]['name']]\n",
    "            dgm_line.append(r)\n",
    "        dgm_line.sort(key=lambda x: x[0])\n",
    "        result.append(dgm_line[0:number])\n",
    "    return result"
   ]
  },
  {
   "cell_type": "code",
   "execution_count": null,
   "metadata": {},
   "outputs": [],
   "source": [
    "# function to purify the result-datastructure (the found n nearest neighbours)\n",
    "def prepare_list(result):\n",
    "    newList = []\n",
    "    for k in range(len(result)):\n",
    "        n = [j for i in result[k] for j in i]\n",
    "        newList.append(n)\n",
    "    return newList"
   ]
  },
  {
   "cell_type": "code",
   "execution_count": null,
   "metadata": {},
   "outputs": [],
   "source": [
    "# create dataframe for results of calculation\n",
    "def create_final_dataframe(result):\n",
    "    cols = []\n",
    "    l = len(result[0])\n",
    "    l = l/2\n",
    "    for i in range(int(l)):\n",
    "        cols.append('dist_{}'.format(i+1))\n",
    "        cols.append('value_{}'.format(i+1))\n",
    "    \n",
    "    cols_df = pd.DataFrame(columns=cols, data=result)\n",
    "    return cols_df"
   ]
  },
  {
   "cell_type": "code",
   "execution_count": null,
   "metadata": {},
   "outputs": [],
   "source": [
    "# run  progress to calculate the n nearest stations\n",
    "neighbours = calc_nearest_stations(dgm, obs, number=10)\n",
    "result = prepare_list(neighbours)\n",
    "final_df = create_final_dataframe(result)"
   ]
  },
  {
   "cell_type": "code",
   "execution_count": null,
   "metadata": {},
   "outputs": [],
   "source": [
    "# concatenate origin dataframe with results of calculation\n",
    "res = pd.concat([dgm, final_df], axis=1, sort=True)"
   ]
  },
  {
   "cell_type": "code",
   "execution_count": null,
   "metadata": {},
   "outputs": [],
   "source": [
    "# export dataframe as csv\n",
    "file = \"../DATA/05_dgm__nearest_station-names.csv\"\n",
    "columns = res.columns.tolist()\n",
    "res.to_csv(file, sep=\";\", columns=columns, index=False)"
   ]
  }
 ],
 "metadata": {
  "kernelspec": {
   "display_name": "Python 3",
   "language": "python",
   "name": "python3"
  },
  "language_info": {
   "codemirror_mode": {
    "name": "ipython",
    "version": 3
   },
   "file_extension": ".py",
   "mimetype": "text/x-python",
   "name": "python",
   "nbconvert_exporter": "python",
   "pygments_lexer": "ipython3",
   "version": "3.6.1"
  }
 },
 "nbformat": 4,
 "nbformat_minor": 2
}
