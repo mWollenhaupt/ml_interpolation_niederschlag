{
 "cells": [
  {
   "cell_type": "code",
   "execution_count": null,
   "metadata": {},
   "outputs": [],
   "source": [
    "import pandas as pd\n",
    "from math import sqrt\n",
    "from datetime import datetime"
   ]
  },
  {
   "cell_type": "code",
   "execution_count": null,
   "metadata": {},
   "outputs": [],
   "source": [
    "# read relevant data\n",
    "stations_in_use_file = '../DATA/00_stations_in_use.csv'\n",
    "stations_in_use = pd.read_csv(stations_in_use_file, delimiter=';')"
   ]
  },
  {
   "cell_type": "code",
   "execution_count": null,
   "metadata": {},
   "outputs": [],
   "source": [
    "# function which calcultes the n nearest neigbors to a given station\n",
    "def calc_nearest_neighbors(obs, station, number=3):\n",
    "    obs = obs[obs.name != station[0]]\n",
    "    result = []\n",
    "    east = station[1]\n",
    "    north = station[2]\n",
    "    up = station[3]\n",
    "    for row in obs.iterrows():\n",
    "        cr = row[1]\n",
    "        dist = sqrt((east-cr['east'])*(east-cr['east'])+(north-cr['north'])*(north-cr['north'])+(up-cr['up'])*(up-cr['up']))\n",
    "        r = [dist, ':{}'.format(cr['name'])]\n",
    "        result.append(r)\n",
    "    result.sort(key=lambda x: x[0])\n",
    "    return result[0:number]"
   ]
  },
  {
   "cell_type": "code",
   "execution_count": null,
   "metadata": {},
   "outputs": [],
   "source": [
    "# calc n nearest neighbors for each station - create peudo distance-matrix\n",
    "neighbors = []\n",
    "n = 50\n",
    "for idx, row in stations_in_use.iterrows():\n",
    "    station = ['{}'.format(row['name'])]\n",
    "    station.append(calc_nearest_neighbors(stations_in_use, row, number=n))\n",
    "    neighbors.append(station)\n",
    "    \n",
    "header = 'name;east;north;up;timestamp;value'\n",
    "for i in range(n):\n",
    "    header += ';dist_{};value_{}'.format(i+1, i+1)"
   ]
  },
  {
   "cell_type": "code",
   "execution_count": null,
   "metadata": {},
   "outputs": [],
   "source": [
    "# read all valid observations from previous progress\n",
    "with open('../DATA/03_valid_observations.csv', 'r', encoding='utf-8') as file_in:\n",
    "    lines = file_in.readlines()\n",
    "lines = [x.strip() for x in lines]\n",
    "del lines[0]"
   ]
  },
  {
   "cell_type": "code",
   "execution_count": null,
   "metadata": {
    "scrolled": true
   },
   "outputs": [],
   "source": [
    "# combine calculated neighbors and valid observations\n",
    "with open('../DATA/04_station_nearest_stations-names.csv', 'a') as file_out:\n",
    "    file_out.write('{}\\n'.format(header))\n",
    "    l = len(lines)\n",
    "    cc = 1\n",
    "    pc = 1\n",
    "    for line in lines:\n",
    "        # compute progress\n",
    "        perc = (cc/l)*100\n",
    "        if perc > pc:\n",
    "            print('{0}: {1:.1f}%'.format(datetime.now(), perc))\n",
    "            pc+=1\n",
    "        cc+=1\n",
    "\n",
    "        \n",
    "        split = line.split(';')\n",
    "        for row in neighbors:\n",
    "            if row[0] == split[0]:\n",
    "                str1 = ''.join(str(e) for e in row[1])\n",
    "                str1=str1.replace(\"'\"\", '').replace('][', ';').replace('[', '').replace(']', '').replace(', :', ';')\n",
    "                file_out.write('{0};{1}\\n'.format(line, str1))\n",
    "                break"
   ]
  },
  {
   "cell_type": "code",
   "execution_count": null,
   "metadata": {},
   "outputs": [],
   "source": []
  }
 ],
 "metadata": {
  "kernelspec": {
   "display_name": "Python 3",
   "language": "python",
   "name": "python3"
  },
  "language_info": {
   "codemirror_mode": {
    "name": "ipython",
    "version": 3
   },
   "file_extension": ".py",
   "mimetype": "text/x-python",
   "name": "python",
   "nbconvert_exporter": "python",
   "pygments_lexer": "ipython3",
   "version": "3.6.1"
  }
 },
 "nbformat": 4,
 "nbformat_minor": 2
}
