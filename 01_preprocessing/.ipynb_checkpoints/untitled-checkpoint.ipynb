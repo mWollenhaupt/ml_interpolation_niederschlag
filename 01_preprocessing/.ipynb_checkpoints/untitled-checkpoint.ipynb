{
 "cells": [
  {
   "cell_type": "code",
   "execution_count": null,
   "metadata": {},
   "outputs": [],
   "source": [
    "import pandas as pd\n",
    "from math import sqrt\n",
    "from datetime import datetime"
   ]
  },
  {
   "cell_type": "code",
   "execution_count": null,
   "metadata": {},
   "outputs": [],
   "source": [
    "# read in relevant data\n",
    "file = \"../DATA/03_valid_observations.csv\"\n",
    "df = pd.read_csv(file, delimiter=\";\")"
   ]
  },
  {
   "cell_type": "code",
   "execution_count": null,
   "metadata": {},
   "outputs": [],
   "source": [
    "# group data by timestamp\n",
    "groups = df.groupby('timestamp')"
   ]
  },
  {
   "cell_type": "code",
   "execution_count": null,
   "metadata": {},
   "outputs": [],
   "source": [
    "# function which calcultes the n next neigbours to a given station\n",
    "def calc_nearest_neighbours(obs, station, number=3):\n",
    "    obs = obs[obs.name != station[0]]\n",
    "    result = []\n",
    "    east = station[1]\n",
    "    north = station[2]\n",
    "    up = station[3]\n",
    "    for row in obs.iterrows():\n",
    "        cr = row[1]\n",
    "        dist = sqrt((east-cr['east'])*(east-cr['east'])+(north-cr['north'])*(north-cr['north'])+(up-cr['up'])*(up-cr['up']))\n",
    "        r = [dist, cr['value']]\n",
    "        result.append(r)\n",
    "    result.sort(key=lambda x: x[0])\n",
    "    return result[0:number]"
   ]
  },
  {
   "cell_type": "code",
   "execution_count": null,
   "metadata": {},
   "outputs": [],
   "source": [
    "# function to purify the result-datastructure (the found n nearest neighbours)\n",
    "def prepare_list(result):\n",
    "    newList = []\n",
    "    for k in range(len(result)):\n",
    "        n = [j for i in result[k] for j in i]\n",
    "        newList.append(n)\n",
    "    return newList"
   ]
  },
  {
   "cell_type": "code",
   "execution_count": null,
   "metadata": {},
   "outputs": [],
   "source": [
    "# function to create a dynamic dataframe depending on the number of considered neighbours\n",
    "def create_final_dataframe(result):\n",
    "    cols = []\n",
    "    l = len(result[0])\n",
    "    l = l/2\n",
    "    for i in range(int(l)):\n",
    "        cols.append('dist_{}'.format(i+1))\n",
    "        cols.append('value_{}'.format(i+1))\n",
    "    \n",
    "    cols_df = pd.DataFrame(columns=cols, data=result)\n",
    "    return cols_df"
   ]
  },
  {
   "cell_type": "code",
   "execution_count": null,
   "metadata": {},
   "outputs": [],
   "source": [
    "# run  progress to calculate the n nearest stations\n",
    "result = []\n",
    "l = len(groups)\n",
    "cc = 1\n",
    "pc = 1\n",
    "for name, group in groups:\n",
    "    # compute progress\n",
    "    perc = (cc/l)*100\n",
    "    if perc > pc:\n",
    "        print('{0}: {1:.1f}%'.format(datetime.now(), perc))\n",
    "        pc+=1\n",
    "    cc+=1\n",
    "    # compute n nearest neighbours\n",
    "    for row in group.iterrows():\n",
    "        cr = row[1]\n",
    "        station = [cr['name'], cr['east'], cr['north'], cr['up']]\n",
    "        result.append(calc_nearest_neighbours(group, station, number=10))"
   ]
  },
  {
   "cell_type": "code",
   "execution_count": null,
   "metadata": {},
   "outputs": [],
   "source": [
    "# create dataframe for results of calculation\n",
    "result = prepare_list(result)\n",
    "neighbours = create_final_dataframe(result)"
   ]
  },
  {
   "cell_type": "code",
   "execution_count": null,
   "metadata": {},
   "outputs": [],
   "source": [
    "# concatenate origin dataframe with results of calculation\n",
    "res = pd.concat([df, neighbours], axis=1, sort=True)"
   ]
  },
  {
   "cell_type": "code",
   "execution_count": null,
   "metadata": {},
   "outputs": [],
   "source": [
    "# export dataframe as csv\n",
    "file = \"../DATA/04_station_nearest_stations.csv\"\n",
    "columns = res.columns.tolist()\n",
    "res.to_csv(file, sep=\";\", columns=columns, index=False)"
   ]
  }
 ],
 "metadata": {
  "kernelspec": {
   "display_name": "Python 3",
   "language": "python",
   "name": "python3"
  },
  "language_info": {
   "codemirror_mode": {
    "name": "ipython",
    "version": 3
   },
   "file_extension": ".py",
   "mimetype": "text/x-python",
   "name": "python",
   "nbconvert_exporter": "python",
   "pygments_lexer": "ipython3",
   "version": "3.6.1"
  }
 },
 "nbformat": 4,
 "nbformat_minor": 2
}
